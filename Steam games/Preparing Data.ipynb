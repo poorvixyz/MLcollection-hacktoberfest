{
 "cells": [
  {
   "cell_type": "markdown",
   "metadata": {},
   "source": [
    "# Problem Statement:\n",
    "![img](https://cdn.mmos.com/wp-content/uploads/2017/03/steam-user-reviews-change-news-banner.jpg)\n",
    "\n",
    "The Data uploaded had some issues.The column 'price' contained both, original as well as discounted price.\n",
    "* So this Notebook deals with Preparing Data and doing other analysis like: \n",
    "\n",
    "#### Original Data Set Used: https://www.kaggle.com/kingburrito666/over-13000-steam-games"
   ]
  },
  {
   "cell_type": "code",
   "execution_count": 1,
   "metadata": {
    "ExecuteTime": {
     "end_time": "2020-09-26T21:18:57.777237Z",
     "start_time": "2020-09-26T21:18:57.315312Z"
    }
   },
   "outputs": [],
   "source": [
    "import numpy as np\n",
    "import pandas as pd\n",
    "# pandas defaults\n",
    "pd.options.display.max_columns = 500\n",
    "pd.options.display.max_rows = 500"
   ]
  },
  {
   "cell_type": "code",
   "execution_count": 2,
   "metadata": {
    "ExecuteTime": {
     "end_time": "2020-09-26T21:18:57.782156Z",
     "start_time": "2020-09-26T21:18:57.778165Z"
    }
   },
   "outputs": [],
   "source": [
    "import warnings\n",
    "warnings.filterwarnings('ignore')"
   ]
  },
  {
   "cell_type": "markdown",
   "metadata": {},
   "source": [
    "## 1. Importing Original Data"
   ]
  },
  {
   "cell_type": "code",
   "execution_count": 3,
   "metadata": {
    "ExecuteTime": {
     "end_time": "2020-09-26T21:18:57.901154Z",
     "start_time": "2020-09-26T21:18:57.784151Z"
    }
   },
   "outputs": [
    {
     "data": {
      "text/html": [
       "<div>\n",
       "<style scoped>\n",
       "    .dataframe tbody tr th:only-of-type {\n",
       "        vertical-align: middle;\n",
       "    }\n",
       "\n",
       "    .dataframe tbody tr th {\n",
       "        vertical-align: top;\n",
       "    }\n",
       "\n",
       "    .dataframe thead th {\n",
       "        text-align: right;\n",
       "    }\n",
       "</style>\n",
       "<table border=\"1\" class=\"dataframe\">\n",
       "  <thead>\n",
       "    <tr style=\"text-align: right;\">\n",
       "      <th></th>\n",
       "      <th>Name</th>\n",
       "      <th>rel_date</th>\n",
       "      <th>price</th>\n",
       "    </tr>\n",
       "  </thead>\n",
       "  <tbody>\n",
       "    <tr>\n",
       "      <th>0</th>\n",
       "      <td>Counter-Strike: Global Offensive</td>\n",
       "      <td>08-21-2012</td>\n",
       "      <td>$14.99</td>\n",
       "    </tr>\n",
       "    <tr>\n",
       "      <th>1</th>\n",
       "      <td>PLAYERUNKNOWN'S BATTLEGROUNDS</td>\n",
       "      <td>03-23-2017</td>\n",
       "      <td>$29.99</td>\n",
       "    </tr>\n",
       "    <tr>\n",
       "      <th>2</th>\n",
       "      <td>Outlast 2</td>\n",
       "      <td>04-24-2017</td>\n",
       "      <td>$29.99</td>\n",
       "    </tr>\n",
       "    <tr>\n",
       "      <th>3</th>\n",
       "      <td>SMITE</td>\n",
       "      <td>09-8-2015</td>\n",
       "      <td>0</td>\n",
       "    </tr>\n",
       "    <tr>\n",
       "      <th>4</th>\n",
       "      <td>Rocket League</td>\n",
       "      <td>07-6-2015</td>\n",
       "      <td>$19.99</td>\n",
       "    </tr>\n",
       "    <tr>\n",
       "      <th>5</th>\n",
       "      <td>BlazBlue Centralfiction</td>\n",
       "      <td>04-25-2017</td>\n",
       "      <td>$39.99$35.99</td>\n",
       "    </tr>\n",
       "    <tr>\n",
       "      <th>6</th>\n",
       "      <td>Warframe</td>\n",
       "      <td>03-25-2013</td>\n",
       "      <td>0</td>\n",
       "    </tr>\n",
       "    <tr>\n",
       "      <th>7</th>\n",
       "      <td>The Long Dark</td>\n",
       "      <td>09-22-2014</td>\n",
       "      <td>$19.99$9.99</td>\n",
       "    </tr>\n",
       "    <tr>\n",
       "      <th>8</th>\n",
       "      <td>H1Z1: King of the Kill</td>\n",
       "      <td>02-17-2016</td>\n",
       "      <td>$19.99</td>\n",
       "    </tr>\n",
       "    <tr>\n",
       "      <th>9</th>\n",
       "      <td>NieR:Automata</td>\n",
       "      <td>03-17-2017</td>\n",
       "      <td>$59.99</td>\n",
       "    </tr>\n",
       "  </tbody>\n",
       "</table>\n",
       "</div>"
      ],
      "text/plain": [
       "                               Name    rel_date         price\n",
       "0  Counter-Strike: Global Offensive  08-21-2012        $14.99\n",
       "1     PLAYERUNKNOWN'S BATTLEGROUNDS  03-23-2017        $29.99\n",
       "2                         Outlast 2  04-24-2017        $29.99\n",
       "3                             SMITE   09-8-2015             0\n",
       "4                     Rocket League   07-6-2015        $19.99\n",
       "5           BlazBlue Centralfiction  04-25-2017  $39.99$35.99\n",
       "6                          Warframe  03-25-2013             0\n",
       "7                     The Long Dark  09-22-2014   $19.99$9.99\n",
       "8            H1Z1: King of the Kill  02-17-2016        $19.99\n",
       "9                    NieR:Automata   03-17-2017        $59.99"
      ]
     },
     "execution_count": 3,
     "metadata": {},
     "output_type": "execute_result"
    }
   ],
   "source": [
    "df=pd.read_csv('Steam_games_original.csv')\n",
    "df.head(10)"
   ]
  },
  {
   "cell_type": "markdown",
   "metadata": {},
   "source": [
    "Since the column doesn't shows the delimtter '\\$'  correctly here so we seperated columns manually by replacing '\\\\$' with ',' and ',,' with ',' by editing the provided CSV in a text editor."
   ]
  },
  {
   "cell_type": "markdown",
   "metadata": {},
   "source": [
    "## 2. Importing Edited Data"
   ]
  },
  {
   "cell_type": "code",
   "execution_count": 4,
   "metadata": {
    "ExecuteTime": {
     "end_time": "2020-09-26T21:18:57.982979Z",
     "start_time": "2020-09-26T21:18:57.904111Z"
    }
   },
   "outputs": [],
   "source": [
    "df=pd.read_csv('Steam_games.csv')"
   ]
  },
  {
   "cell_type": "code",
   "execution_count": 5,
   "metadata": {
    "ExecuteTime": {
     "end_time": "2020-09-26T21:18:58.084167Z",
     "start_time": "2020-09-26T21:18:57.984624Z"
    }
   },
   "outputs": [
    {
     "data": {
      "text/html": [
       "<div>\n",
       "<style scoped>\n",
       "    .dataframe tbody tr th:only-of-type {\n",
       "        vertical-align: middle;\n",
       "    }\n",
       "\n",
       "    .dataframe tbody tr th {\n",
       "        vertical-align: top;\n",
       "    }\n",
       "\n",
       "    .dataframe thead th {\n",
       "        text-align: right;\n",
       "    }\n",
       "</style>\n",
       "<table border=\"1\" class=\"dataframe\">\n",
       "  <thead>\n",
       "    <tr style=\"text-align: right;\">\n",
       "      <th></th>\n",
       "      <th>Name</th>\n",
       "      <th>rel_date</th>\n",
       "      <th>sale_price</th>\n",
       "      <th>discounted_price</th>\n",
       "    </tr>\n",
       "  </thead>\n",
       "  <tbody>\n",
       "    <tr>\n",
       "      <th>0</th>\n",
       "      <td>Counter-Strike: Global Offensive</td>\n",
       "      <td>08-21-2012</td>\n",
       "      <td>14.99</td>\n",
       "      <td>NaN</td>\n",
       "    </tr>\n",
       "    <tr>\n",
       "      <th>1</th>\n",
       "      <td>PLAYERUNKNOWN'S BATTLEGROUNDS</td>\n",
       "      <td>03-23-2017</td>\n",
       "      <td>29.99</td>\n",
       "      <td>NaN</td>\n",
       "    </tr>\n",
       "    <tr>\n",
       "      <th>2</th>\n",
       "      <td>Outlast 2</td>\n",
       "      <td>04-24-2017</td>\n",
       "      <td>29.99</td>\n",
       "      <td>NaN</td>\n",
       "    </tr>\n",
       "    <tr>\n",
       "      <th>3</th>\n",
       "      <td>SMITE</td>\n",
       "      <td>09-8-2015</td>\n",
       "      <td>0.00</td>\n",
       "      <td>NaN</td>\n",
       "    </tr>\n",
       "    <tr>\n",
       "      <th>4</th>\n",
       "      <td>Rocket League</td>\n",
       "      <td>07-6-2015</td>\n",
       "      <td>19.99</td>\n",
       "      <td>NaN</td>\n",
       "    </tr>\n",
       "    <tr>\n",
       "      <th>5</th>\n",
       "      <td>BlazBlue Centralfiction</td>\n",
       "      <td>04-25-2017</td>\n",
       "      <td>39.99</td>\n",
       "      <td>35.99</td>\n",
       "    </tr>\n",
       "    <tr>\n",
       "      <th>6</th>\n",
       "      <td>Warframe</td>\n",
       "      <td>03-25-2013</td>\n",
       "      <td>0.00</td>\n",
       "      <td>NaN</td>\n",
       "    </tr>\n",
       "    <tr>\n",
       "      <th>7</th>\n",
       "      <td>The Long Dark</td>\n",
       "      <td>09-22-2014</td>\n",
       "      <td>19.99</td>\n",
       "      <td>9.99</td>\n",
       "    </tr>\n",
       "    <tr>\n",
       "      <th>8</th>\n",
       "      <td>H1Z1: King of the Kill</td>\n",
       "      <td>02-17-2016</td>\n",
       "      <td>19.99</td>\n",
       "      <td>NaN</td>\n",
       "    </tr>\n",
       "    <tr>\n",
       "      <th>9</th>\n",
       "      <td>NieR:Automata</td>\n",
       "      <td>03-17-2017</td>\n",
       "      <td>59.99</td>\n",
       "      <td>NaN</td>\n",
       "    </tr>\n",
       "  </tbody>\n",
       "</table>\n",
       "</div>"
      ],
      "text/plain": [
       "                               Name    rel_date  sale_price  discounted_price\n",
       "0  Counter-Strike: Global Offensive  08-21-2012       14.99               NaN\n",
       "1     PLAYERUNKNOWN'S BATTLEGROUNDS  03-23-2017       29.99               NaN\n",
       "2                         Outlast 2  04-24-2017       29.99               NaN\n",
       "3                             SMITE   09-8-2015        0.00               NaN\n",
       "4                     Rocket League   07-6-2015       19.99               NaN\n",
       "5           BlazBlue Centralfiction  04-25-2017       39.99             35.99\n",
       "6                          Warframe  03-25-2013        0.00               NaN\n",
       "7                     The Long Dark  09-22-2014       19.99              9.99\n",
       "8            H1Z1: King of the Kill  02-17-2016       19.99               NaN\n",
       "9                    NieR:Automata   03-17-2017       59.99               NaN"
      ]
     },
     "execution_count": 5,
     "metadata": {},
     "output_type": "execute_result"
    }
   ],
   "source": [
    "df.head(10)"
   ]
  },
  {
   "cell_type": "markdown",
   "metadata": {},
   "source": [
    "##### To fill column discounted_price's null values we will use 'fillna' method "
   ]
  },
  {
   "cell_type": "code",
   "execution_count": 6,
   "metadata": {
    "ExecuteTime": {
     "end_time": "2020-09-26T21:19:01.243450Z",
     "start_time": "2020-09-26T21:18:58.086163Z"
    }
   },
   "outputs": [],
   "source": [
    "df=df.fillna(method='ffill',axis=1)"
   ]
  },
  {
   "cell_type": "code",
   "execution_count": 7,
   "metadata": {
    "ExecuteTime": {
     "end_time": "2020-09-26T21:19:01.265397Z",
     "start_time": "2020-09-26T21:19:01.246448Z"
    }
   },
   "outputs": [
    {
     "data": {
      "text/html": [
       "<div>\n",
       "<style scoped>\n",
       "    .dataframe tbody tr th:only-of-type {\n",
       "        vertical-align: middle;\n",
       "    }\n",
       "\n",
       "    .dataframe tbody tr th {\n",
       "        vertical-align: top;\n",
       "    }\n",
       "\n",
       "    .dataframe thead th {\n",
       "        text-align: right;\n",
       "    }\n",
       "</style>\n",
       "<table border=\"1\" class=\"dataframe\">\n",
       "  <thead>\n",
       "    <tr style=\"text-align: right;\">\n",
       "      <th></th>\n",
       "      <th>Name</th>\n",
       "      <th>rel_date</th>\n",
       "      <th>orig_price</th>\n",
       "      <th>discounted_price</th>\n",
       "    </tr>\n",
       "  </thead>\n",
       "  <tbody>\n",
       "    <tr>\n",
       "      <th>0</th>\n",
       "      <td>Counter-Strike: Global Offensive</td>\n",
       "      <td>08-21-2012</td>\n",
       "      <td>14.99</td>\n",
       "      <td>14.99</td>\n",
       "    </tr>\n",
       "    <tr>\n",
       "      <th>1</th>\n",
       "      <td>PLAYERUNKNOWN'S BATTLEGROUNDS</td>\n",
       "      <td>03-23-2017</td>\n",
       "      <td>29.99</td>\n",
       "      <td>29.99</td>\n",
       "    </tr>\n",
       "    <tr>\n",
       "      <th>2</th>\n",
       "      <td>Outlast 2</td>\n",
       "      <td>04-24-2017</td>\n",
       "      <td>29.99</td>\n",
       "      <td>29.99</td>\n",
       "    </tr>\n",
       "    <tr>\n",
       "      <th>3</th>\n",
       "      <td>SMITE</td>\n",
       "      <td>09-8-2015</td>\n",
       "      <td>0</td>\n",
       "      <td>0</td>\n",
       "    </tr>\n",
       "    <tr>\n",
       "      <th>4</th>\n",
       "      <td>Rocket League</td>\n",
       "      <td>07-6-2015</td>\n",
       "      <td>19.99</td>\n",
       "      <td>19.99</td>\n",
       "    </tr>\n",
       "  </tbody>\n",
       "</table>\n",
       "</div>"
      ],
      "text/plain": [
       "                               Name    rel_date orig_price discounted_price\n",
       "0  Counter-Strike: Global Offensive  08-21-2012      14.99            14.99\n",
       "1     PLAYERUNKNOWN'S BATTLEGROUNDS  03-23-2017      29.99            29.99\n",
       "2                         Outlast 2  04-24-2017      29.99            29.99\n",
       "3                             SMITE   09-8-2015          0                0\n",
       "4                     Rocket League   07-6-2015      19.99            19.99"
      ]
     },
     "execution_count": 7,
     "metadata": {},
     "output_type": "execute_result"
    }
   ],
   "source": [
    "# let's rename the columns so that they make sense\n",
    "df.rename(columns={'sale_price':'orig_price',}, inplace=True)\n",
    "df.head()"
   ]
  },
  {
   "cell_type": "code",
   "execution_count": 8,
   "metadata": {
    "ExecuteTime": {
     "end_time": "2020-09-26T21:19:01.478381Z",
     "start_time": "2020-09-26T21:19:01.272378Z"
    }
   },
   "outputs": [
    {
     "data": {
      "text/plain": [
       "Name                object\n",
       "rel_date            object\n",
       "orig_price          object\n",
       "discounted_price    object\n",
       "dtype: object"
      ]
     },
     "execution_count": 8,
     "metadata": {},
     "output_type": "execute_result"
    }
   ],
   "source": [
    "#checking Data types\n",
    "df.dtypes"
   ]
  },
  {
   "cell_type": "code",
   "execution_count": null,
   "metadata": {
    "ExecuteTime": {
     "end_time": "2020-09-26T20:14:37.145005Z",
     "start_time": "2020-09-26T20:14:37.139974Z"
    }
   },
   "outputs": [],
   "source": []
  },
  {
   "cell_type": "code",
   "execution_count": 9,
   "metadata": {
    "ExecuteTime": {
     "end_time": "2020-09-26T21:19:01.598016Z",
     "start_time": "2020-09-26T21:19:01.482374Z"
    }
   },
   "outputs": [
    {
     "name": "stdout",
     "output_type": "stream",
     "text": [
      "Name                 object\n",
      "rel_date             object\n",
      "orig_price          float64\n",
      "discounted_price    float64\n",
      "dtype: object\n"
     ]
    }
   ],
   "source": [
    "# Converting data type to suitable types\n",
    "convert_dict = {'Name':str, 'rel_date': str, 'orig_price': float, 'discounted_price': float\n",
    "               } \n",
    "  \n",
    "df = df.astype(convert_dict) \n",
    "print(df.dtypes) "
   ]
  },
  {
   "cell_type": "code",
   "execution_count": 10,
   "metadata": {
    "ExecuteTime": {
     "end_time": "2020-09-26T21:19:01.733030Z",
     "start_time": "2020-09-26T21:19:01.603005Z"
    }
   },
   "outputs": [],
   "source": [
    "# Creating another column with discount percentage\n",
    "df['discount%']= (((df['orig_price']-df['discounted_price'])*100)/df['orig_price'])"
   ]
  },
  {
   "cell_type": "code",
   "execution_count": 11,
   "metadata": {
    "ExecuteTime": {
     "end_time": "2020-09-26T21:19:01.817826Z",
     "start_time": "2020-09-26T21:19:01.736980Z"
    }
   },
   "outputs": [
    {
     "data": {
      "text/html": [
       "<div>\n",
       "<style scoped>\n",
       "    .dataframe tbody tr th:only-of-type {\n",
       "        vertical-align: middle;\n",
       "    }\n",
       "\n",
       "    .dataframe tbody tr th {\n",
       "        vertical-align: top;\n",
       "    }\n",
       "\n",
       "    .dataframe thead th {\n",
       "        text-align: right;\n",
       "    }\n",
       "</style>\n",
       "<table border=\"1\" class=\"dataframe\">\n",
       "  <thead>\n",
       "    <tr style=\"text-align: right;\">\n",
       "      <th></th>\n",
       "      <th>Name</th>\n",
       "      <th>rel_date</th>\n",
       "      <th>orig_price</th>\n",
       "      <th>discounted_price</th>\n",
       "      <th>discount%</th>\n",
       "    </tr>\n",
       "  </thead>\n",
       "  <tbody>\n",
       "    <tr>\n",
       "      <th>0</th>\n",
       "      <td>Counter-Strike: Global Offensive</td>\n",
       "      <td>08-21-2012</td>\n",
       "      <td>14.99</td>\n",
       "      <td>14.99</td>\n",
       "      <td>0.000000</td>\n",
       "    </tr>\n",
       "    <tr>\n",
       "      <th>1</th>\n",
       "      <td>PLAYERUNKNOWN'S BATTLEGROUNDS</td>\n",
       "      <td>03-23-2017</td>\n",
       "      <td>29.99</td>\n",
       "      <td>29.99</td>\n",
       "      <td>0.000000</td>\n",
       "    </tr>\n",
       "    <tr>\n",
       "      <th>2</th>\n",
       "      <td>Outlast 2</td>\n",
       "      <td>04-24-2017</td>\n",
       "      <td>29.99</td>\n",
       "      <td>29.99</td>\n",
       "      <td>0.000000</td>\n",
       "    </tr>\n",
       "    <tr>\n",
       "      <th>3</th>\n",
       "      <td>SMITE</td>\n",
       "      <td>09-8-2015</td>\n",
       "      <td>0.00</td>\n",
       "      <td>0.00</td>\n",
       "      <td>NaN</td>\n",
       "    </tr>\n",
       "    <tr>\n",
       "      <th>4</th>\n",
       "      <td>Rocket League</td>\n",
       "      <td>07-6-2015</td>\n",
       "      <td>19.99</td>\n",
       "      <td>19.99</td>\n",
       "      <td>0.000000</td>\n",
       "    </tr>\n",
       "    <tr>\n",
       "      <th>5</th>\n",
       "      <td>BlazBlue Centralfiction</td>\n",
       "      <td>04-25-2017</td>\n",
       "      <td>39.99</td>\n",
       "      <td>35.99</td>\n",
       "      <td>10.002501</td>\n",
       "    </tr>\n",
       "    <tr>\n",
       "      <th>6</th>\n",
       "      <td>Warframe</td>\n",
       "      <td>03-25-2013</td>\n",
       "      <td>0.00</td>\n",
       "      <td>0.00</td>\n",
       "      <td>NaN</td>\n",
       "    </tr>\n",
       "    <tr>\n",
       "      <th>7</th>\n",
       "      <td>The Long Dark</td>\n",
       "      <td>09-22-2014</td>\n",
       "      <td>19.99</td>\n",
       "      <td>9.99</td>\n",
       "      <td>50.025013</td>\n",
       "    </tr>\n",
       "    <tr>\n",
       "      <th>8</th>\n",
       "      <td>H1Z1: King of the Kill</td>\n",
       "      <td>02-17-2016</td>\n",
       "      <td>19.99</td>\n",
       "      <td>19.99</td>\n",
       "      <td>0.000000</td>\n",
       "    </tr>\n",
       "    <tr>\n",
       "      <th>9</th>\n",
       "      <td>NieR:Automata</td>\n",
       "      <td>03-17-2017</td>\n",
       "      <td>59.99</td>\n",
       "      <td>59.99</td>\n",
       "      <td>0.000000</td>\n",
       "    </tr>\n",
       "  </tbody>\n",
       "</table>\n",
       "</div>"
      ],
      "text/plain": [
       "                               Name    rel_date  orig_price  discounted_price  \\\n",
       "0  Counter-Strike: Global Offensive  08-21-2012       14.99             14.99   \n",
       "1     PLAYERUNKNOWN'S BATTLEGROUNDS  03-23-2017       29.99             29.99   \n",
       "2                         Outlast 2  04-24-2017       29.99             29.99   \n",
       "3                             SMITE   09-8-2015        0.00              0.00   \n",
       "4                     Rocket League   07-6-2015       19.99             19.99   \n",
       "5           BlazBlue Centralfiction  04-25-2017       39.99             35.99   \n",
       "6                          Warframe  03-25-2013        0.00              0.00   \n",
       "7                     The Long Dark  09-22-2014       19.99              9.99   \n",
       "8            H1Z1: King of the Kill  02-17-2016       19.99             19.99   \n",
       "9                    NieR:Automata   03-17-2017       59.99             59.99   \n",
       "\n",
       "   discount%  \n",
       "0   0.000000  \n",
       "1   0.000000  \n",
       "2   0.000000  \n",
       "3        NaN  \n",
       "4   0.000000  \n",
       "5  10.002501  \n",
       "6        NaN  \n",
       "7  50.025013  \n",
       "8   0.000000  \n",
       "9   0.000000  "
      ]
     },
     "execution_count": 11,
     "metadata": {},
     "output_type": "execute_result"
    }
   ],
   "source": [
    "df.head(10)"
   ]
  },
  {
   "cell_type": "code",
   "execution_count": 12,
   "metadata": {
    "ExecuteTime": {
     "end_time": "2020-09-26T21:19:01.930119Z",
     "start_time": "2020-09-26T21:19:01.821817Z"
    }
   },
   "outputs": [],
   "source": [
    "#Replacing and rounding of values to 2 digit\n",
    "df['discount%'] = df['discount%'].replace(np.nan, 0) \n",
    "df['discount%']=df['discount%'].round(2)"
   ]
  },
  {
   "cell_type": "code",
   "execution_count": 13,
   "metadata": {
    "ExecuteTime": {
     "end_time": "2020-09-26T21:19:02.046621Z",
     "start_time": "2020-09-26T21:19:01.933112Z"
    }
   },
   "outputs": [
    {
     "data": {
      "text/html": [
       "<div>\n",
       "<style scoped>\n",
       "    .dataframe tbody tr th:only-of-type {\n",
       "        vertical-align: middle;\n",
       "    }\n",
       "\n",
       "    .dataframe tbody tr th {\n",
       "        vertical-align: top;\n",
       "    }\n",
       "\n",
       "    .dataframe thead th {\n",
       "        text-align: right;\n",
       "    }\n",
       "</style>\n",
       "<table border=\"1\" class=\"dataframe\">\n",
       "  <thead>\n",
       "    <tr style=\"text-align: right;\">\n",
       "      <th></th>\n",
       "      <th>Name</th>\n",
       "      <th>rel_date</th>\n",
       "      <th>orig_price</th>\n",
       "      <th>discounted_price</th>\n",
       "      <th>discount%</th>\n",
       "    </tr>\n",
       "  </thead>\n",
       "  <tbody>\n",
       "    <tr>\n",
       "      <th>0</th>\n",
       "      <td>Counter-Strike: Global Offensive</td>\n",
       "      <td>08-21-2012</td>\n",
       "      <td>14.99</td>\n",
       "      <td>14.99</td>\n",
       "      <td>0.00</td>\n",
       "    </tr>\n",
       "    <tr>\n",
       "      <th>1</th>\n",
       "      <td>PLAYERUNKNOWN'S BATTLEGROUNDS</td>\n",
       "      <td>03-23-2017</td>\n",
       "      <td>29.99</td>\n",
       "      <td>29.99</td>\n",
       "      <td>0.00</td>\n",
       "    </tr>\n",
       "    <tr>\n",
       "      <th>2</th>\n",
       "      <td>Outlast 2</td>\n",
       "      <td>04-24-2017</td>\n",
       "      <td>29.99</td>\n",
       "      <td>29.99</td>\n",
       "      <td>0.00</td>\n",
       "    </tr>\n",
       "    <tr>\n",
       "      <th>3</th>\n",
       "      <td>SMITE</td>\n",
       "      <td>09-8-2015</td>\n",
       "      <td>0.00</td>\n",
       "      <td>0.00</td>\n",
       "      <td>0.00</td>\n",
       "    </tr>\n",
       "    <tr>\n",
       "      <th>4</th>\n",
       "      <td>Rocket League</td>\n",
       "      <td>07-6-2015</td>\n",
       "      <td>19.99</td>\n",
       "      <td>19.99</td>\n",
       "      <td>0.00</td>\n",
       "    </tr>\n",
       "    <tr>\n",
       "      <th>5</th>\n",
       "      <td>BlazBlue Centralfiction</td>\n",
       "      <td>04-25-2017</td>\n",
       "      <td>39.99</td>\n",
       "      <td>35.99</td>\n",
       "      <td>10.00</td>\n",
       "    </tr>\n",
       "    <tr>\n",
       "      <th>6</th>\n",
       "      <td>Warframe</td>\n",
       "      <td>03-25-2013</td>\n",
       "      <td>0.00</td>\n",
       "      <td>0.00</td>\n",
       "      <td>0.00</td>\n",
       "    </tr>\n",
       "    <tr>\n",
       "      <th>7</th>\n",
       "      <td>The Long Dark</td>\n",
       "      <td>09-22-2014</td>\n",
       "      <td>19.99</td>\n",
       "      <td>9.99</td>\n",
       "      <td>50.03</td>\n",
       "    </tr>\n",
       "    <tr>\n",
       "      <th>8</th>\n",
       "      <td>H1Z1: King of the Kill</td>\n",
       "      <td>02-17-2016</td>\n",
       "      <td>19.99</td>\n",
       "      <td>19.99</td>\n",
       "      <td>0.00</td>\n",
       "    </tr>\n",
       "    <tr>\n",
       "      <th>9</th>\n",
       "      <td>NieR:Automata</td>\n",
       "      <td>03-17-2017</td>\n",
       "      <td>59.99</td>\n",
       "      <td>59.99</td>\n",
       "      <td>0.00</td>\n",
       "    </tr>\n",
       "  </tbody>\n",
       "</table>\n",
       "</div>"
      ],
      "text/plain": [
       "                               Name    rel_date  orig_price  discounted_price  \\\n",
       "0  Counter-Strike: Global Offensive  08-21-2012       14.99             14.99   \n",
       "1     PLAYERUNKNOWN'S BATTLEGROUNDS  03-23-2017       29.99             29.99   \n",
       "2                         Outlast 2  04-24-2017       29.99             29.99   \n",
       "3                             SMITE   09-8-2015        0.00              0.00   \n",
       "4                     Rocket League   07-6-2015       19.99             19.99   \n",
       "5           BlazBlue Centralfiction  04-25-2017       39.99             35.99   \n",
       "6                          Warframe  03-25-2013        0.00              0.00   \n",
       "7                     The Long Dark  09-22-2014       19.99              9.99   \n",
       "8            H1Z1: King of the Kill  02-17-2016       19.99             19.99   \n",
       "9                    NieR:Automata   03-17-2017       59.99             59.99   \n",
       "\n",
       "   discount%  \n",
       "0       0.00  \n",
       "1       0.00  \n",
       "2       0.00  \n",
       "3       0.00  \n",
       "4       0.00  \n",
       "5      10.00  \n",
       "6       0.00  \n",
       "7      50.03  \n",
       "8       0.00  \n",
       "9       0.00  "
      ]
     },
     "execution_count": 13,
     "metadata": {},
     "output_type": "execute_result"
    }
   ],
   "source": [
    "df.head(10)"
   ]
  },
  {
   "cell_type": "markdown",
   "metadata": {},
   "source": [
    "## 3. Saving formated data for further use"
   ]
  },
  {
   "cell_type": "code",
   "execution_count": 14,
   "metadata": {
    "ExecuteTime": {
     "end_time": "2020-09-26T21:19:02.348324Z",
     "start_time": "2020-09-26T21:19:02.049613Z"
    }
   },
   "outputs": [],
   "source": [
    "df.to_csv('Steam_games_final.csv')"
   ]
  },
  {
   "cell_type": "markdown",
   "metadata": {},
   "source": [
    "### Basic Insights"
   ]
  },
  {
   "cell_type": "code",
   "execution_count": 15,
   "metadata": {
    "ExecuteTime": {
     "end_time": "2020-09-26T21:19:02.392275Z",
     "start_time": "2020-09-26T21:19:02.351281Z"
    }
   },
   "outputs": [],
   "source": [
    "df = pd.read_csv(\"Steam_games_final.csv\")"
   ]
  },
  {
   "cell_type": "code",
   "execution_count": 16,
   "metadata": {
    "ExecuteTime": {
     "end_time": "2020-09-26T21:19:02.499741Z",
     "start_time": "2020-09-26T21:19:02.395201Z"
    }
   },
   "outputs": [
    {
     "data": {
      "text/html": [
       "<div>\n",
       "<style scoped>\n",
       "    .dataframe tbody tr th:only-of-type {\n",
       "        vertical-align: middle;\n",
       "    }\n",
       "\n",
       "    .dataframe tbody tr th {\n",
       "        vertical-align: top;\n",
       "    }\n",
       "\n",
       "    .dataframe thead th {\n",
       "        text-align: right;\n",
       "    }\n",
       "</style>\n",
       "<table border=\"1\" class=\"dataframe\">\n",
       "  <thead>\n",
       "    <tr style=\"text-align: right;\">\n",
       "      <th></th>\n",
       "      <th>Unnamed: 0</th>\n",
       "      <th>orig_price</th>\n",
       "      <th>discounted_price</th>\n",
       "      <th>discount%</th>\n",
       "    </tr>\n",
       "  </thead>\n",
       "  <tbody>\n",
       "    <tr>\n",
       "      <th>count</th>\n",
       "      <td>13600.000000</td>\n",
       "      <td>13600.000000</td>\n",
       "      <td>13600.000000</td>\n",
       "      <td>13600.000000</td>\n",
       "    </tr>\n",
       "    <tr>\n",
       "      <th>mean</th>\n",
       "      <td>6799.500000</td>\n",
       "      <td>24.030446</td>\n",
       "      <td>21.027887</td>\n",
       "      <td>13.783682</td>\n",
       "    </tr>\n",
       "    <tr>\n",
       "      <th>std</th>\n",
       "      <td>3926.126165</td>\n",
       "      <td>17.830342</td>\n",
       "      <td>18.976622</td>\n",
       "      <td>26.628158</td>\n",
       "    </tr>\n",
       "    <tr>\n",
       "      <th>min</th>\n",
       "      <td>0.000000</td>\n",
       "      <td>0.000000</td>\n",
       "      <td>0.000000</td>\n",
       "      <td>0.000000</td>\n",
       "    </tr>\n",
       "    <tr>\n",
       "      <th>25%</th>\n",
       "      <td>3399.750000</td>\n",
       "      <td>14.990000</td>\n",
       "      <td>4.990000</td>\n",
       "      <td>0.000000</td>\n",
       "    </tr>\n",
       "    <tr>\n",
       "      <th>50%</th>\n",
       "      <td>6799.500000</td>\n",
       "      <td>19.990000</td>\n",
       "      <td>15.990000</td>\n",
       "      <td>0.000000</td>\n",
       "    </tr>\n",
       "    <tr>\n",
       "      <th>75%</th>\n",
       "      <td>10199.250000</td>\n",
       "      <td>29.990000</td>\n",
       "      <td>29.990000</td>\n",
       "      <td>10.000000</td>\n",
       "    </tr>\n",
       "    <tr>\n",
       "      <th>max</th>\n",
       "      <td>13599.000000</td>\n",
       "      <td>59.990000</td>\n",
       "      <td>59.990000</td>\n",
       "      <td>75.040000</td>\n",
       "    </tr>\n",
       "  </tbody>\n",
       "</table>\n",
       "</div>"
      ],
      "text/plain": [
       "         Unnamed: 0    orig_price  discounted_price     discount%\n",
       "count  13600.000000  13600.000000      13600.000000  13600.000000\n",
       "mean    6799.500000     24.030446         21.027887     13.783682\n",
       "std     3926.126165     17.830342         18.976622     26.628158\n",
       "min        0.000000      0.000000          0.000000      0.000000\n",
       "25%     3399.750000     14.990000          4.990000      0.000000\n",
       "50%     6799.500000     19.990000         15.990000      0.000000\n",
       "75%    10199.250000     29.990000         29.990000     10.000000\n",
       "max    13599.000000     59.990000         59.990000     75.040000"
      ]
     },
     "execution_count": 16,
     "metadata": {},
     "output_type": "execute_result"
    }
   ],
   "source": [
    "df.describe()"
   ]
  },
  {
   "cell_type": "markdown",
   "metadata": {},
   "source": [
    "### Conclusion:-\n",
    "* Total Games: 13600\n",
    "* Average Price of game: $24.03\n",
    "* Max Price of a game: \\\\$59.99\n",
    "* Max Discount %: 75.04%"
   ]
  },
  {
   "cell_type": "code",
   "execution_count": null,
   "metadata": {},
   "outputs": [],
   "source": []
  }
 ],
 "metadata": {
  "kernelspec": {
   "display_name": "Python 3",
   "language": "python",
   "name": "python3"
  },
  "language_info": {
   "codemirror_mode": {
    "name": "ipython",
    "version": 3
   },
   "file_extension": ".py",
   "mimetype": "text/x-python",
   "name": "python",
   "nbconvert_exporter": "python",
   "pygments_lexer": "ipython3",
   "version": "3.7.9"
  }
 },
 "nbformat": 4,
 "nbformat_minor": 4
}
